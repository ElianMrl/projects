{
 "cells": [
  {
   "cell_type": "code",
   "execution_count": 301,
   "id": "bbc98a63",
   "metadata": {},
   "outputs": [],
   "source": [
    "import pandas as pd\n",
    "import numpy as np\n",
    "import seaborn as sns\n",
    "from matplotlib import pyplot as plt\n",
    "%matplotlib inline\n",
    "from sklearn import linear_model"
   ]
  },
  {
   "cell_type": "code",
   "execution_count": 302,
   "id": "172594e4",
   "metadata": {},
   "outputs": [],
   "source": [
    "df1 = pd.read_csv(\"House_Data.csv\")\n",
    "df1 = df1.drop_duplicates('full_address', keep='last')\n",
    "df2 = df1.drop(['status','sold_date'], axis='columns')\n",
    "df3 = df2.dropna()"
   ]
  },
  {
   "cell_type": "code",
   "execution_count": 303,
   "id": "b654b6c6",
   "metadata": {},
   "outputs": [
    {
     "name": "stderr",
     "output_type": "stream",
     "text": [
      "C:\\Users\\elian\\anaconda3\\lib\\site-packages\\pandas\\core\\frame.py:4906: SettingWithCopyWarning: \n",
      "A value is trying to be set on a copy of a slice from a DataFrame\n",
      "\n",
      "See the caveats in the documentation: https://pandas.pydata.org/pandas-docs/stable/user_guide/indexing.html#returning-a-view-versus-a-copy\n",
      "  return super().drop(\n"
     ]
    },
    {
     "data": {
      "text/html": [
       "<div>\n",
       "<style scoped>\n",
       "    .dataframe tbody tr th:only-of-type {\n",
       "        vertical-align: middle;\n",
       "    }\n",
       "\n",
       "    .dataframe tbody tr th {\n",
       "        vertical-align: top;\n",
       "    }\n",
       "\n",
       "    .dataframe thead th {\n",
       "        text-align: right;\n",
       "    }\n",
       "</style>\n",
       "<table border=\"1\" class=\"dataframe\">\n",
       "  <thead>\n",
       "    <tr style=\"text-align: right;\">\n",
       "      <th></th>\n",
       "      <th>price</th>\n",
       "      <th>bed</th>\n",
       "      <th>bath</th>\n",
       "      <th>acre_lot</th>\n",
       "      <th>full_address</th>\n",
       "      <th>street</th>\n",
       "      <th>city</th>\n",
       "      <th>state</th>\n",
       "      <th>zip_code</th>\n",
       "      <th>house_size</th>\n",
       "    </tr>\n",
       "  </thead>\n",
       "  <tbody>\n",
       "    <tr>\n",
       "      <th>30307</th>\n",
       "      <td>279900.0</td>\n",
       "      <td>3.0</td>\n",
       "      <td>2.0</td>\n",
       "      <td>0.35</td>\n",
       "      <td>11 Schenone Ct, Plainville, CT, 06062</td>\n",
       "      <td>11 Schenone Ct</td>\n",
       "      <td>Plainville</td>\n",
       "      <td>Connecticut</td>\n",
       "      <td>6062.0</td>\n",
       "      <td>1004.0</td>\n",
       "    </tr>\n",
       "    <tr>\n",
       "      <th>46573</th>\n",
       "      <td>185000.0</td>\n",
       "      <td>7.0</td>\n",
       "      <td>2.0</td>\n",
       "      <td>0.11</td>\n",
       "      <td>193-195 White St, Springfield, MA, 01108</td>\n",
       "      <td>193-195 White St</td>\n",
       "      <td>Springfield</td>\n",
       "      <td>Massachusetts</td>\n",
       "      <td>1108.0</td>\n",
       "      <td>3319.0</td>\n",
       "    </tr>\n",
       "    <tr>\n",
       "      <th>48824</th>\n",
       "      <td>349900.0</td>\n",
       "      <td>4.0</td>\n",
       "      <td>2.0</td>\n",
       "      <td>1.03</td>\n",
       "      <td>193 Kibbe Rd, East Longmeadow, MA, 01028</td>\n",
       "      <td>193 Kibbe Rd</td>\n",
       "      <td>East Longmeadow</td>\n",
       "      <td>Massachusetts</td>\n",
       "      <td>1028.0</td>\n",
       "      <td>1638.0</td>\n",
       "    </tr>\n",
       "    <tr>\n",
       "      <th>54141</th>\n",
       "      <td>219000.0</td>\n",
       "      <td>3.0</td>\n",
       "      <td>1.0</td>\n",
       "      <td>0.29</td>\n",
       "      <td>482 Brewer St, East Hartford, CT, 06118</td>\n",
       "      <td>482 Brewer St</td>\n",
       "      <td>East Hartford</td>\n",
       "      <td>Connecticut</td>\n",
       "      <td>6118.0</td>\n",
       "      <td>960.0</td>\n",
       "    </tr>\n",
       "    <tr>\n",
       "      <th>54530</th>\n",
       "      <td>40000.0</td>\n",
       "      <td>2.0</td>\n",
       "      <td>1.0</td>\n",
       "      <td>0.20</td>\n",
       "      <td>423 Morey Park Hill Rd, Nassau, NY, 12123</td>\n",
       "      <td>423 Morey Park Hill Rd</td>\n",
       "      <td>Nassau</td>\n",
       "      <td>New York</td>\n",
       "      <td>12123.0</td>\n",
       "      <td>690.0</td>\n",
       "    </tr>\n",
       "  </tbody>\n",
       "</table>\n",
       "</div>"
      ],
      "text/plain": [
       "          price  bed  bath  acre_lot  \\\n",
       "30307  279900.0  3.0   2.0      0.35   \n",
       "46573  185000.0  7.0   2.0      0.11   \n",
       "48824  349900.0  4.0   2.0      1.03   \n",
       "54141  219000.0  3.0   1.0      0.29   \n",
       "54530   40000.0  2.0   1.0      0.20   \n",
       "\n",
       "                                    full_address                  street  \\\n",
       "30307      11 Schenone Ct, Plainville, CT, 06062          11 Schenone Ct   \n",
       "46573   193-195 White St, Springfield, MA, 01108        193-195 White St   \n",
       "48824   193 Kibbe Rd, East Longmeadow, MA, 01028            193 Kibbe Rd   \n",
       "54141    482 Brewer St, East Hartford, CT, 06118           482 Brewer St   \n",
       "54530  423 Morey Park Hill Rd, Nassau, NY, 12123  423 Morey Park Hill Rd   \n",
       "\n",
       "                  city          state  zip_code  house_size  \n",
       "30307       Plainville    Connecticut    6062.0      1004.0  \n",
       "46573      Springfield  Massachusetts    1108.0      3319.0  \n",
       "48824  East Longmeadow  Massachusetts    1028.0      1638.0  \n",
       "54141    East Hartford    Connecticut    6118.0       960.0  \n",
       "54530           Nassau       New York   12123.0       690.0  "
      ]
     },
     "execution_count": 303,
     "metadata": {},
     "output_type": "execute_result"
    }
   ],
   "source": [
    "df3.drop(df3.index[df3['state'] == ('Puerto Rico')], inplace=True)\n",
    "df3.drop(df3.index[df3['state'] == ('Virgin Islands')], inplace=True)\n",
    "df3.drop(df3.index[df3['state'] == ('Wyoming')], inplace=True)\n",
    "df3.drop(df3.index[df3['state'] == ('Maine')], inplace=True)\n",
    "df3.drop(df3.index[df3['state'] == ('West Virginia')], inplace=True)\n",
    "df3.drop(df3.index[df3['state'] == ('New Hampshire')], inplace=True)\n",
    "df3.drop(df3.index[df3['state'] == ('Vermont')], inplace=True)\n",
    "df3.head()"
   ]
  },
  {
   "cell_type": "code",
   "execution_count": 304,
   "id": "6c459dd9",
   "metadata": {},
   "outputs": [
    {
     "data": {
      "image/png": "[encoded data removed]",
      "text/plain": [
       "<Figure size 432x288 with 1 Axes>"
      ]
     },
     "metadata": {
      "needs_background": "light"
     },
     "output_type": "display_data"
    }
   ],
   "source": [
    "plt.title('State count')\n",
    "sns.countplot(x=df3['state']) # count the values of each borough\n",
    "plt.rcParams[\"figure.figsize\"] = (10,10)\n",
    "\n",
    "plt.show()"
   ]
  },
  {
   "cell_type": "code",
   "execution_count": 305,
   "id": "57eb4ace",
   "metadata": {},
   "outputs": [],
   "source": [
    "df4 = df3.copy()\n",
    "df4['Price_per_sqft'] = df4['price']/df4['house_size']"
   ]
  },
  {
   "cell_type": "code",
   "execution_count": 306,
   "id": "2f813298",
   "metadata": {},
   "outputs": [
    {
     "data": {
      "text/plain": [
       "(46318, 11)"
      ]
     },
     "execution_count": 306,
     "metadata": {},
     "output_type": "execute_result"
    }
   ],
   "source": [
    "# eliminates data that has wrong information of number of bathroom based on the side of the house\n",
    "df5 = df4[~((df4.house_size/df4.bath<250) & (df4['bath']!=1))]\n",
    "df5.shape"
   ]
  },
  {
   "cell_type": "code",
   "execution_count": 307,
   "id": "1e371cca",
   "metadata": {},
   "outputs": [
    {
     "data": {
      "text/plain": [
       "19134.0    255\n",
       "19146.0    232\n",
       "19145.0    227\n",
       "19148.0    212\n",
       "19124.0    201\n",
       "          ... \n",
       "1344.0       1\n",
       "1378.0       1\n",
       "1355.0       1\n",
       "12919.0      1\n",
       "10578.0      1\n",
       "Name: zip_code, Length: 2041, dtype: int64"
      ]
     },
     "execution_count": 307,
     "metadata": {},
     "output_type": "execute_result"
    }
   ],
   "source": [
    "zip_code_stats = df5['zip_code'].value_counts(ascending=False)\n",
    "zip_code_stats"
   ]
  },
  {
   "cell_type": "code",
   "execution_count": 308,
   "id": "1ded825f",
   "metadata": {},
   "outputs": [
    {
     "data": {
      "text/plain": [
       "11563.0    6\n",
       "11693.0    6\n",
       "11501.0    6\n",
       "2671.0     6\n",
       "2452.0     6\n",
       "          ..\n",
       "1344.0     1\n",
       "1378.0     1\n",
       "1355.0     1\n",
       "12919.0    1\n",
       "10578.0    1\n",
       "Name: zip_code, Length: 616, dtype: int64"
      ]
     },
     "execution_count": 308,
     "metadata": {},
     "output_type": "execute_result"
    }
   ],
   "source": [
    "zip_code_stats_7 = zip_code_stats[zip_code_stats<=6]\n",
    "zip_code_stats_7"
   ]
  },
  {
   "cell_type": "code",
   "execution_count": 309,
   "id": "a08fb6eb",
   "metadata": {},
   "outputs": [
    {
     "name": "stderr",
     "output_type": "stream",
     "text": [
      "C:\\Users\\elian\\AppData\\Local\\Temp/ipykernel_8076/482896947.py:1: SettingWithCopyWarning: \n",
      "A value is trying to be set on a copy of a slice from a DataFrame.\n",
      "Try using .loc[row_indexer,col_indexer] = value instead\n",
      "\n",
      "See the caveats in the documentation: https://pandas.pydata.org/pandas-docs/stable/user_guide/indexing.html#returning-a-view-versus-a-copy\n",
      "  df5['zip_code'] = df5['zip_code'].apply(lambda x: 'other' if x in zip_code_stats_7 else x)\n"
     ]
    },
    {
     "data": {
      "text/plain": [
       "1426"
      ]
     },
     "execution_count": 309,
     "metadata": {},
     "output_type": "execute_result"
    }
   ],
   "source": [
    "df5['zip_code'] = df5['zip_code'].apply(lambda x: 'other' if x in zip_code_stats_7 else x)\n",
    "len(df5['zip_code'].unique())"
   ]
  },
  {
   "cell_type": "code",
   "execution_count": 310,
   "id": "6aa9b27b",
   "metadata": {},
   "outputs": [],
   "source": [
    "# removing outliers (data that skewed our overall result)\n",
    "def remove_outliers(df):\n",
    "    df_out = pd.DataFrame()\n",
    "    for key, subdf in df.groupby('zip_code'):\n",
    "        m = np.mean(subdf.Price_per_sqft)\n",
    "        st = np.std(subdf.Price_per_sqft)\n",
    "        reduced_df = subdf[(subdf.Price_per_sqft>(m-st)) & (subdf.Price_per_sqft<=(m+st))]\n",
    "        df_out = pd.concat([df_out,reduced_df], ignore_index=True)\n",
    "    return df_out\n",
    "\n",
    "df6 = remove_outliers(df5)"
   ]
  },
  {
   "cell_type": "code",
   "execution_count": 311,
   "id": "3fe0dd24",
   "metadata": {},
   "outputs": [],
   "source": [
    "df7 = df6.copy()\n",
    "df7 = df6.drop_duplicates(subset='full_address', keep='last')"
   ]
  },
  {
   "cell_type": "markdown",
   "id": "0ec293dd",
   "metadata": {},
   "source": [
    "### This portion of the project was made in case that I ever want to approximate the house price by their latitude and longitude"
   ]
  },
  {
   "cell_type": "code",
   "execution_count": 312,
   "id": "14b544ba",
   "metadata": {},
   "outputs": [],
   "source": [
    "import re\n",
    "\n",
    "patron = \"Apt [^',']+|Unit [^',']+|Unit-[^',']+\"\n",
    "patron1 = \"Units 1,2,3 and 4,\"\n",
    "patron2 = \"Units [^',']+\"\n",
    "patron3 = \"\\d{1}-\\d{1}|\\d{2}-\\d{2}|\\d{3}-\\d{3}|\\d{1}-\\d{2}|\\d{1}-\\d{3}|\\d{2}-\\d{1}|\\d{3}-\\d{1}\"\n",
    "\n",
    "df7['full_address'] = df7['full_address'].str.replace(patron,'', regex=True)\n",
    "df7['full_address'] = df7['full_address'].str.replace(patron1,'', regex=True)\n",
    "df7['full_address'] = df7['full_address'].str.replace(patron2,'', regex=True)\n",
    "df7['full_address'] = df7['full_address'].str.replace(patron3,'', regex=True)"
   ]
  },
  {
   "cell_type": "code",
   "execution_count": 313,
   "id": "398e143a",
   "metadata": {},
   "outputs": [],
   "source": [
    "df7 = df7[df7['full_address'].str.contains('/')==False]\n",
    "df7 = df7[df7['full_address'].str.contains('-')==False]"
   ]
  },
  {
   "cell_type": "code",
   "execution_count": 314,
   "id": "f1b87762",
   "metadata": {},
   "outputs": [],
   "source": [
    "# full_lat = []\n",
    "# full_long = []\n",
    "\n",
    "# for locality in df7['full_address']:\n",
    "#     location = geolocator.geocode(locality)\n",
    "#     if location is None:\n",
    "#         full_lat.append('-1')\n",
    "#         full_long.append('-1')\n",
    "#     else:\n",
    "#         full_lat.append(location.latitude)\n",
    "#         full_long.append(location.longitude)"
   ]
  },
  {
   "cell_type": "markdown",
   "id": "4372a131",
   "metadata": {},
   "source": [
    "### The following part of the project uses zipcode for price prediction"
   ]
  },
  {
   "cell_type": "code",
   "execution_count": 315,
   "id": "ad37486c",
   "metadata": {},
   "outputs": [
    {
     "data": {
      "text/plain": [
       "(34390, 11)"
      ]
     },
     "execution_count": 315,
     "metadata": {},
     "output_type": "execute_result"
    }
   ],
   "source": [
    "df7.shape"
   ]
  },
  {
   "cell_type": "code",
   "execution_count": 316,
   "id": "078f15ef",
   "metadata": {},
   "outputs": [],
   "source": [
    "prueba = df7[df7['state']=='New York']\n",
    "prueba = prueba[prueba['price']<5000000]\n",
    "borought = ['Staten Island', 'Brooklyn', 'New York City', 'Yonkers', 'Bronx']\n",
    "\n",
    "x1 = prueba[prueba['city'].isin(borought)]"
   ]
  },
  {
   "cell_type": "code",
   "execution_count": 317,
   "id": "9c5f7088",
   "metadata": {},
   "outputs": [
    {
     "data": {
      "image/png": "[encoded data removed]",
      "text/plain": [
       "<Figure size 720x360 with 1 Axes>"
      ]
     },
     "metadata": {
      "needs_background": "light"
     },
     "output_type": "display_data"
    }
   ],
   "source": [
    "# Sales prices by borough\n",
    "plt.figure(figsize=(10,5))\n",
    "sns.boxplot(x='city', y='price', data=x1)\n",
    "plt.title('Sale Price Distribution by Borough')\n",
    "plt.show()"
   ]
  },
  {
   "cell_type": "code",
   "execution_count": null,
   "id": "8b5686ae",
   "metadata": {},
   "outputs": [],
   "source": []
  },
  {
   "cell_type": "code",
   "execution_count": 318,
   "id": "7e4ee664",
   "metadata": {},
   "outputs": [
    {
     "data": {
      "image/png": "[encoded data removed]",
      "text/plain": [
       "<Figure size 1080x720 with 1 Axes>"
      ]
     },
     "metadata": {
      "needs_background": "light"
     },
     "output_type": "display_data"
    }
   ],
   "source": [
    "# this is to figure out if there are a relationship between number of bed, house size and price\n",
    "def plot_scatter_chart(df, loc):\n",
    "    bed2 = df[(df.zip_code==loc) & (df.bed==2)]\n",
    "    bed3 = df[(df.zip_code==loc) & (df.bed==3)]\n",
    "    matplotlib.rcParams['figure.figsize'] = (15,10)\n",
    "    plt.scatter(bed2.house_size,bed2.price,label='2 bed',s=50)\n",
    "    plt.scatter(bed3.house_size,bed3.price,marker='x',label='3 bed',s=50)\n",
    "    plt.xlabel(\"Total Square Feet Area\")\n",
    "    plt.ylabel(\"Price\")\n",
    "    plt.title(loc)\n",
    "    plt.legend()\n",
    "\n",
    "plot_scatter_chart(df7, 1201.0)"
   ]
  },
  {
   "cell_type": "code",
   "execution_count": 319,
   "id": "fa53bc25",
   "metadata": {},
   "outputs": [
    {
     "data": {
      "text/plain": [
       "(34390, 11)"
      ]
     },
     "execution_count": 319,
     "metadata": {},
     "output_type": "execute_result"
    }
   ],
   "source": [
    "df7.shape"
   ]
  },
  {
   "cell_type": "markdown",
   "id": "a7ace220",
   "metadata": {},
   "source": [
    "### Removing outliers"
   ]
  },
  {
   "cell_type": "code",
   "execution_count": 320,
   "id": "03874eed",
   "metadata": {},
   "outputs": [
    {
     "data": {
      "text/plain": [
       "(25416, 11)"
      ]
     },
     "execution_count": 320,
     "metadata": {},
     "output_type": "execute_result"
    }
   ],
   "source": [
    "# remove properties that has n number of bedrooms and their price per sqft is less than\n",
    "# properties with n-1 number of bedrooms with the same house_size\n",
    "def remove_bed_outliers(df):\n",
    "    exclude_indices = np.array([])\n",
    "    for location, location_df in df.groupby('zip_code'):\n",
    "        bed_stats = {}\n",
    "        for bed, bed_df in location_df.groupby('bed'): # this group apartments based on thier number of bedrooms\n",
    "            bed_stats[bed] = {\n",
    "                'mean': np.mean(bed_df.Price_per_sqft),\n",
    "                'std': np.std(bed_df.Price_per_sqft),\n",
    "                'count': bed_df.shape[0]\n",
    "            }\n",
    "        for bed, bed_df in location_df.groupby('bed'):\n",
    "            stats = bed_stats.get(bed-1)\n",
    "            if stats and stats['count']>5:\n",
    "                exclude_indices = np.append(exclude_indices, bed_df[bed_df.Price_per_sqft<(stats['mean'])].index.values)\n",
    "    return df.drop(exclude_indices,axis='index')\n",
    "df8 = remove_bed_outliers(df7)\n",
    "# df8 = df7.copy()\n",
    "df8.shape"
   ]
  },
  {
   "cell_type": "code",
   "execution_count": 321,
   "id": "8643ff5f",
   "metadata": {},
   "outputs": [
    {
     "data": {
      "text/plain": [
       "Text(0, 0.5, 'Count')"
      ]
     },
     "execution_count": 321,
     "metadata": {},
     "output_type": "execute_result"
    },
    {
     "data": {
      "image/png": "[encoded data removed]",
      "text/plain": [
       "<Figure size 720x360 with 1 Axes>"
      ]
     },
     "metadata": {
      "needs_background": "light"
     },
     "output_type": "display_data"
    }
   ],
   "source": [
    "matplotlib.rcParams[\"figure.figsize\"] = (10,5)\n",
    "plt.hist(df8.Price_per_sqft,rwidth=0.8)\n",
    "plt.xlabel(\"Price Per Square Feet\")\n",
    "plt.ylabel(\"Count\")"
   ]
  },
  {
   "cell_type": "code",
   "execution_count": 322,
   "id": "a8ddd9c6",
   "metadata": {},
   "outputs": [
    {
     "data": {
      "text/plain": [
       "array([ 3.,  2.,  1.,  4.,  5.,  6., 16.,  8.,  7., 15.,  9., 10., 12.,\n",
       "       11., 13., 51., 22., 20., 17., 14., 24., 19., 43., 36.])"
      ]
     },
     "execution_count": 322,
     "metadata": {},
     "output_type": "execute_result"
    }
   ],
   "source": [
    "df8.bath.unique()"
   ]
  },
  {
   "cell_type": "code",
   "execution_count": 323,
   "id": "13a292a9",
   "metadata": {},
   "outputs": [
    {
     "data": {
      "text/html": [
       "<div>\n",
       "<style scoped>\n",
       "    .dataframe tbody tr th:only-of-type {\n",
       "        vertical-align: middle;\n",
       "    }\n",
       "\n",
       "    .dataframe tbody tr th {\n",
       "        vertical-align: top;\n",
       "    }\n",
       "\n",
       "    .dataframe thead th {\n",
       "        text-align: right;\n",
       "    }\n",
       "</style>\n",
       "<table border=\"1\" class=\"dataframe\">\n",
       "  <thead>\n",
       "    <tr style=\"text-align: right;\">\n",
       "      <th></th>\n",
       "      <th>price</th>\n",
       "      <th>bed</th>\n",
       "      <th>bath</th>\n",
       "      <th>acre_lot</th>\n",
       "      <th>full_address</th>\n",
       "      <th>street</th>\n",
       "      <th>city</th>\n",
       "      <th>state</th>\n",
       "      <th>zip_code</th>\n",
       "      <th>house_size</th>\n",
       "      <th>Price_per_sqft</th>\n",
       "    </tr>\n",
       "  </thead>\n",
       "  <tbody>\n",
       "    <tr>\n",
       "      <th>22</th>\n",
       "      <td>849900.0</td>\n",
       "      <td>4.0</td>\n",
       "      <td>5.0</td>\n",
       "      <td>3.97</td>\n",
       "      <td>1246 South St, Barre, MA, 01005</td>\n",
       "      <td>1246 South St</td>\n",
       "      <td>Barre</td>\n",
       "      <td>Massachusetts</td>\n",
       "      <td>1005.0</td>\n",
       "      <td>5023.0</td>\n",
       "      <td>169.201672</td>\n",
       "    </tr>\n",
       "    <tr>\n",
       "      <th>101</th>\n",
       "      <td>1295000.0</td>\n",
       "      <td>4.0</td>\n",
       "      <td>5.0</td>\n",
       "      <td>7.81</td>\n",
       "      <td>25 Sylvia Hts, Hadley, MA, 01035</td>\n",
       "      <td>25 Sylvia Hts</td>\n",
       "      <td>Hadley</td>\n",
       "      <td>Massachusetts</td>\n",
       "      <td>1035.0</td>\n",
       "      <td>7000.0</td>\n",
       "      <td>185.000000</td>\n",
       "    </tr>\n",
       "    <tr>\n",
       "      <th>184</th>\n",
       "      <td>539000.0</td>\n",
       "      <td>3.0</td>\n",
       "      <td>4.0</td>\n",
       "      <td>1.11</td>\n",
       "      <td>57 Jessie Ln, Westfield, MA, 01085</td>\n",
       "      <td>57 Jessie Ln</td>\n",
       "      <td>Westfield</td>\n",
       "      <td>Massachusetts</td>\n",
       "      <td>1085.0</td>\n",
       "      <td>3577.0</td>\n",
       "      <td>150.684932</td>\n",
       "    </tr>\n",
       "    <tr>\n",
       "      <th>198</th>\n",
       "      <td>1249000.0</td>\n",
       "      <td>3.0</td>\n",
       "      <td>4.0</td>\n",
       "      <td>1.40</td>\n",
       "      <td>12 Falcon Hts, Wilbraham, MA, 01095</td>\n",
       "      <td>12 Falcon Hts</td>\n",
       "      <td>Wilbraham</td>\n",
       "      <td>Massachusetts</td>\n",
       "      <td>1095.0</td>\n",
       "      <td>4936.0</td>\n",
       "      <td>253.038898</td>\n",
       "    </tr>\n",
       "    <tr>\n",
       "      <th>225</th>\n",
       "      <td>394900.0</td>\n",
       "      <td>3.0</td>\n",
       "      <td>4.0</td>\n",
       "      <td>0.44</td>\n",
       "      <td>6 Blueberry Hill Rd, Longmeadow, MA, 01106</td>\n",
       "      <td>6 Blueberry Hill Rd</td>\n",
       "      <td>Longmeadow</td>\n",
       "      <td>Massachusetts</td>\n",
       "      <td>1106.0</td>\n",
       "      <td>2025.0</td>\n",
       "      <td>195.012346</td>\n",
       "    </tr>\n",
       "    <tr>\n",
       "      <th>...</th>\n",
       "      <td>...</td>\n",
       "      <td>...</td>\n",
       "      <td>...</td>\n",
       "      <td>...</td>\n",
       "      <td>...</td>\n",
       "      <td>...</td>\n",
       "      <td>...</td>\n",
       "      <td>...</td>\n",
       "      <td>...</td>\n",
       "      <td>...</td>\n",
       "      <td>...</td>\n",
       "    </tr>\n",
       "    <tr>\n",
       "      <th>34423</th>\n",
       "      <td>1250000.0</td>\n",
       "      <td>3.0</td>\n",
       "      <td>4.0</td>\n",
       "      <td>0.28</td>\n",
       "      <td>11 Arlena Ter, Ramsey, NJ, 07446</td>\n",
       "      <td>11 Arlena Ter</td>\n",
       "      <td>Ramsey</td>\n",
       "      <td>New Jersey</td>\n",
       "      <td>other</td>\n",
       "      <td>4201.0</td>\n",
       "      <td>297.548203</td>\n",
       "    </tr>\n",
       "    <tr>\n",
       "      <th>34437</th>\n",
       "      <td>1630000.0</td>\n",
       "      <td>5.0</td>\n",
       "      <td>6.0</td>\n",
       "      <td>0.97</td>\n",
       "      <td>55 Timberlane Rd, Upper Saddle River, NJ, 07458</td>\n",
       "      <td>55 Timberlane Rd</td>\n",
       "      <td>Upper Saddle River</td>\n",
       "      <td>New Jersey</td>\n",
       "      <td>other</td>\n",
       "      <td>5500.0</td>\n",
       "      <td>296.363636</td>\n",
       "    </tr>\n",
       "    <tr>\n",
       "      <th>34446</th>\n",
       "      <td>1100000.0</td>\n",
       "      <td>3.0</td>\n",
       "      <td>4.0</td>\n",
       "      <td>38.10</td>\n",
       "      <td>2990 Stony St, Mohegan Lake, NY, 10547</td>\n",
       "      <td>2990 Stony St</td>\n",
       "      <td>Mohegan Lake</td>\n",
       "      <td>New York</td>\n",
       "      <td>other</td>\n",
       "      <td>2614.0</td>\n",
       "      <td>420.811018</td>\n",
       "    </tr>\n",
       "    <tr>\n",
       "      <th>34484</th>\n",
       "      <td>275000.0</td>\n",
       "      <td>1.0</td>\n",
       "      <td>2.0</td>\n",
       "      <td>0.24</td>\n",
       "      <td>274 Westchester Ave, Buchanan, NY, 10511</td>\n",
       "      <td>274 Westchester Ave</td>\n",
       "      <td>Buchanan</td>\n",
       "      <td>New York</td>\n",
       "      <td>other</td>\n",
       "      <td>720.0</td>\n",
       "      <td>381.944444</td>\n",
       "    </tr>\n",
       "    <tr>\n",
       "      <th>34486</th>\n",
       "      <td>599999.0</td>\n",
       "      <td>2.0</td>\n",
       "      <td>3.0</td>\n",
       "      <td>0.03</td>\n",
       "      <td>119 Park Rd Ext, Goldens Bridge, NY, 10526</td>\n",
       "      <td>119 Park Rd Ext</td>\n",
       "      <td>Goldens Bridge</td>\n",
       "      <td>New York</td>\n",
       "      <td>other</td>\n",
       "      <td>1600.0</td>\n",
       "      <td>374.999375</td>\n",
       "    </tr>\n",
       "  </tbody>\n",
       "</table>\n",
       "<p>2137 rows × 11 columns</p>\n",
       "</div>"
      ],
      "text/plain": [
       "           price  bed  bath  acre_lot  \\\n",
       "22      849900.0  4.0   5.0      3.97   \n",
       "101    1295000.0  4.0   5.0      7.81   \n",
       "184     539000.0  3.0   4.0      1.11   \n",
       "198    1249000.0  3.0   4.0      1.40   \n",
       "225     394900.0  3.0   4.0      0.44   \n",
       "...          ...  ...   ...       ...   \n",
       "34423  1250000.0  3.0   4.0      0.28   \n",
       "34437  1630000.0  5.0   6.0      0.97   \n",
       "34446  1100000.0  3.0   4.0     38.10   \n",
       "34484   275000.0  1.0   2.0      0.24   \n",
       "34486   599999.0  2.0   3.0      0.03   \n",
       "\n",
       "                                          full_address               street  \\\n",
       "22                     1246 South St, Barre, MA, 01005        1246 South St   \n",
       "101                   25 Sylvia Hts, Hadley, MA, 01035        25 Sylvia Hts   \n",
       "184                 57 Jessie Ln, Westfield, MA, 01085         57 Jessie Ln   \n",
       "198                12 Falcon Hts, Wilbraham, MA, 01095        12 Falcon Hts   \n",
       "225         6 Blueberry Hill Rd, Longmeadow, MA, 01106  6 Blueberry Hill Rd   \n",
       "...                                                ...                  ...   \n",
       "34423                 11 Arlena Ter, Ramsey, NJ, 07446        11 Arlena Ter   \n",
       "34437  55 Timberlane Rd, Upper Saddle River, NJ, 07458     55 Timberlane Rd   \n",
       "34446           2990 Stony St, Mohegan Lake, NY, 10547        2990 Stony St   \n",
       "34484         274 Westchester Ave, Buchanan, NY, 10511  274 Westchester Ave   \n",
       "34486       119 Park Rd Ext, Goldens Bridge, NY, 10526      119 Park Rd Ext   \n",
       "\n",
       "                     city          state zip_code  house_size  Price_per_sqft  \n",
       "22                  Barre  Massachusetts   1005.0      5023.0      169.201672  \n",
       "101                Hadley  Massachusetts   1035.0      7000.0      185.000000  \n",
       "184             Westfield  Massachusetts   1085.0      3577.0      150.684932  \n",
       "198             Wilbraham  Massachusetts   1095.0      4936.0      253.038898  \n",
       "225            Longmeadow  Massachusetts   1106.0      2025.0      195.012346  \n",
       "...                   ...            ...      ...         ...             ...  \n",
       "34423              Ramsey     New Jersey    other      4201.0      297.548203  \n",
       "34437  Upper Saddle River     New Jersey    other      5500.0      296.363636  \n",
       "34446        Mohegan Lake       New York    other      2614.0      420.811018  \n",
       "34484            Buchanan       New York    other       720.0      381.944444  \n",
       "34486      Goldens Bridge       New York    other      1600.0      374.999375  \n",
       "\n",
       "[2137 rows x 11 columns]"
      ]
     },
     "execution_count": 323,
     "metadata": {},
     "output_type": "execute_result"
    }
   ],
   "source": [
    "df8[df8.bath>df8.bed] # is weird that a house has more bathrooms than bedroom. \n",
    "# it looks like there are some errors in this data"
   ]
  },
  {
   "cell_type": "code",
   "execution_count": 324,
   "id": "355e09d4",
   "metadata": {},
   "outputs": [
    {
     "data": {
      "text/plain": [
       "(23279, 11)"
      ]
     },
     "execution_count": 324,
     "metadata": {},
     "output_type": "execute_result"
    }
   ],
   "source": [
    "df9 = df8[df8.bath<=df8.bed]\n",
    "df9.shape"
   ]
  },
  {
   "cell_type": "code",
   "execution_count": 325,
   "id": "83513a8f",
   "metadata": {},
   "outputs": [
    {
     "data": {
      "text/html": [
       "<div>\n",
       "<style scoped>\n",
       "    .dataframe tbody tr th:only-of-type {\n",
       "        vertical-align: middle;\n",
       "    }\n",
       "\n",
       "    .dataframe tbody tr th {\n",
       "        vertical-align: top;\n",
       "    }\n",
       "\n",
       "    .dataframe thead th {\n",
       "        text-align: right;\n",
       "    }\n",
       "</style>\n",
       "<table border=\"1\" class=\"dataframe\">\n",
       "  <thead>\n",
       "    <tr style=\"text-align: right;\">\n",
       "      <th></th>\n",
       "      <th>price</th>\n",
       "      <th>bed</th>\n",
       "      <th>bath</th>\n",
       "      <th>acre_lot</th>\n",
       "      <th>full_address</th>\n",
       "      <th>street</th>\n",
       "      <th>city</th>\n",
       "      <th>state</th>\n",
       "      <th>zip_code</th>\n",
       "      <th>house_size</th>\n",
       "      <th>Price_per_sqft</th>\n",
       "    </tr>\n",
       "  </thead>\n",
       "  <tbody>\n",
       "    <tr>\n",
       "      <th>0</th>\n",
       "      <td>525000.0</td>\n",
       "      <td>3.0</td>\n",
       "      <td>3.0</td>\n",
       "      <td>0.45</td>\n",
       "      <td>955 River Rd, Agawam, MA, 01001</td>\n",
       "      <td>955 River Rd</td>\n",
       "      <td>Agawam</td>\n",
       "      <td>Massachusetts</td>\n",
       "      <td>1001.0</td>\n",
       "      <td>2314.0</td>\n",
       "      <td>226.879862</td>\n",
       "    </tr>\n",
       "    <tr>\n",
       "      <th>1</th>\n",
       "      <td>289900.0</td>\n",
       "      <td>3.0</td>\n",
       "      <td>2.0</td>\n",
       "      <td>0.36</td>\n",
       "      <td>82 Harvey Johnson Dr, Agawam, MA, 01001</td>\n",
       "      <td>82 Harvey Johnson Dr</td>\n",
       "      <td>Agawam</td>\n",
       "      <td>Massachusetts</td>\n",
       "      <td>1001.0</td>\n",
       "      <td>1276.0</td>\n",
       "      <td>227.194357</td>\n",
       "    </tr>\n",
       "    <tr>\n",
       "      <th>2</th>\n",
       "      <td>275000.0</td>\n",
       "      <td>4.0</td>\n",
       "      <td>2.0</td>\n",
       "      <td>0.11</td>\n",
       "      <td>King Ave, Agawam, MA, 01001</td>\n",
       "      <td>6-8 King Ave</td>\n",
       "      <td>Agawam</td>\n",
       "      <td>Massachusetts</td>\n",
       "      <td>1001.0</td>\n",
       "      <td>1732.0</td>\n",
       "      <td>158.775982</td>\n",
       "    </tr>\n",
       "    <tr>\n",
       "      <th>3</th>\n",
       "      <td>335000.0</td>\n",
       "      <td>6.0</td>\n",
       "      <td>2.0</td>\n",
       "      <td>0.24</td>\n",
       "      <td>Ley St, Agawam, MA, 01001</td>\n",
       "      <td>41-43 Ley St</td>\n",
       "      <td>Agawam</td>\n",
       "      <td>Massachusetts</td>\n",
       "      <td>1001.0</td>\n",
       "      <td>1800.0</td>\n",
       "      <td>186.111111</td>\n",
       "    </tr>\n",
       "    <tr>\n",
       "      <th>4</th>\n",
       "      <td>239900.0</td>\n",
       "      <td>3.0</td>\n",
       "      <td>1.0</td>\n",
       "      <td>0.46</td>\n",
       "      <td>270 South St, Agawam, MA, 01001</td>\n",
       "      <td>270 South St</td>\n",
       "      <td>Agawam</td>\n",
       "      <td>Massachusetts</td>\n",
       "      <td>1001.0</td>\n",
       "      <td>1196.0</td>\n",
       "      <td>200.585284</td>\n",
       "    </tr>\n",
       "  </tbody>\n",
       "</table>\n",
       "</div>"
      ],
      "text/plain": [
       "      price  bed  bath  acre_lot                             full_address  \\\n",
       "0  525000.0  3.0   3.0      0.45          955 River Rd, Agawam, MA, 01001   \n",
       "1  289900.0  3.0   2.0      0.36  82 Harvey Johnson Dr, Agawam, MA, 01001   \n",
       "2  275000.0  4.0   2.0      0.11              King Ave, Agawam, MA, 01001   \n",
       "3  335000.0  6.0   2.0      0.24                Ley St, Agawam, MA, 01001   \n",
       "4  239900.0  3.0   1.0      0.46          270 South St, Agawam, MA, 01001   \n",
       "\n",
       "                 street    city          state zip_code  house_size  \\\n",
       "0          955 River Rd  Agawam  Massachusetts   1001.0      2314.0   \n",
       "1  82 Harvey Johnson Dr  Agawam  Massachusetts   1001.0      1276.0   \n",
       "2          6-8 King Ave  Agawam  Massachusetts   1001.0      1732.0   \n",
       "3          41-43 Ley St  Agawam  Massachusetts   1001.0      1800.0   \n",
       "4          270 South St  Agawam  Massachusetts   1001.0      1196.0   \n",
       "\n",
       "   Price_per_sqft  \n",
       "0      226.879862  \n",
       "1      227.194357  \n",
       "2      158.775982  \n",
       "3      186.111111  \n",
       "4      200.585284  "
      ]
     },
     "execution_count": 325,
     "metadata": {},
     "output_type": "execute_result"
    }
   ],
   "source": [
    "df9.head()"
   ]
  },
  {
   "cell_type": "code",
   "execution_count": 326,
   "id": "9e24b379",
   "metadata": {},
   "outputs": [
    {
     "data": {
      "text/html": [
       "<div>\n",
       "<style scoped>\n",
       "    .dataframe tbody tr th:only-of-type {\n",
       "        vertical-align: middle;\n",
       "    }\n",
       "\n",
       "    .dataframe tbody tr th {\n",
       "        vertical-align: top;\n",
       "    }\n",
       "\n",
       "    .dataframe thead th {\n",
       "        text-align: right;\n",
       "    }\n",
       "</style>\n",
       "<table border=\"1\" class=\"dataframe\">\n",
       "  <thead>\n",
       "    <tr style=\"text-align: right;\">\n",
       "      <th></th>\n",
       "      <th>price</th>\n",
       "      <th>bed</th>\n",
       "      <th>bath</th>\n",
       "      <th>zip_code</th>\n",
       "      <th>house_size</th>\n",
       "    </tr>\n",
       "  </thead>\n",
       "  <tbody>\n",
       "    <tr>\n",
       "      <th>0</th>\n",
       "      <td>525000.0</td>\n",
       "      <td>3.0</td>\n",
       "      <td>3.0</td>\n",
       "      <td>1001.0</td>\n",
       "      <td>2314.0</td>\n",
       "    </tr>\n",
       "    <tr>\n",
       "      <th>1</th>\n",
       "      <td>289900.0</td>\n",
       "      <td>3.0</td>\n",
       "      <td>2.0</td>\n",
       "      <td>1001.0</td>\n",
       "      <td>1276.0</td>\n",
       "    </tr>\n",
       "    <tr>\n",
       "      <th>2</th>\n",
       "      <td>275000.0</td>\n",
       "      <td>4.0</td>\n",
       "      <td>2.0</td>\n",
       "      <td>1001.0</td>\n",
       "      <td>1732.0</td>\n",
       "    </tr>\n",
       "  </tbody>\n",
       "</table>\n",
       "</div>"
      ],
      "text/plain": [
       "      price  bed  bath zip_code  house_size\n",
       "0  525000.0  3.0   3.0   1001.0      2314.0\n",
       "1  289900.0  3.0   2.0   1001.0      1276.0\n",
       "2  275000.0  4.0   2.0   1001.0      1732.0"
      ]
     },
     "execution_count": 326,
     "metadata": {},
     "output_type": "execute_result"
    }
   ],
   "source": [
    "df10 = df9.drop(['acre_lot','full_address','street','state','Price_per_sqft', 'city'],axis='columns')\n",
    "df10.head(3)"
   ]
  },
  {
   "cell_type": "code",
   "execution_count": 327,
   "id": "efc3117d",
   "metadata": {},
   "outputs": [
    {
     "data": {
      "image/png": "[encoded data removed]",
      "text/plain": [
       "<Figure size 1080x720 with 1 Axes>"
      ]
     },
     "metadata": {
      "needs_background": "light"
     },
     "output_type": "display_data"
    }
   ],
   "source": [
    "plot_scatter_chart(df10, 1201.0)"
   ]
  },
  {
   "cell_type": "code",
   "execution_count": 343,
   "id": "00ef6610",
   "metadata": {},
   "outputs": [
    {
     "data": {
      "text/html": [
       "<div>\n",
       "<style scoped>\n",
       "    .dataframe tbody tr th:only-of-type {\n",
       "        vertical-align: middle;\n",
       "    }\n",
       "\n",
       "    .dataframe tbody tr th {\n",
       "        vertical-align: top;\n",
       "    }\n",
       "\n",
       "    .dataframe thead th {\n",
       "        text-align: right;\n",
       "    }\n",
       "</style>\n",
       "<table border=\"1\" class=\"dataframe\">\n",
       "  <thead>\n",
       "    <tr style=\"text-align: right;\">\n",
       "      <th></th>\n",
       "      <th>1001.0</th>\n",
       "      <th>1002.0</th>\n",
       "      <th>1005.0</th>\n",
       "      <th>1007.0</th>\n",
       "      <th>1013.0</th>\n",
       "      <th>1020.0</th>\n",
       "      <th>1027.0</th>\n",
       "      <th>1028.0</th>\n",
       "      <th>1030.0</th>\n",
       "      <th>1033.0</th>\n",
       "      <th>...</th>\n",
       "      <th>19803.0</th>\n",
       "      <th>19804.0</th>\n",
       "      <th>19805.0</th>\n",
       "      <th>19806.0</th>\n",
       "      <th>19807.0</th>\n",
       "      <th>19808.0</th>\n",
       "      <th>19809.0</th>\n",
       "      <th>19810.0</th>\n",
       "      <th>19977.0</th>\n",
       "      <th>other</th>\n",
       "    </tr>\n",
       "  </thead>\n",
       "  <tbody>\n",
       "    <tr>\n",
       "      <th>0</th>\n",
       "      <td>1</td>\n",
       "      <td>0</td>\n",
       "      <td>0</td>\n",
       "      <td>0</td>\n",
       "      <td>0</td>\n",
       "      <td>0</td>\n",
       "      <td>0</td>\n",
       "      <td>0</td>\n",
       "      <td>0</td>\n",
       "      <td>0</td>\n",
       "      <td>...</td>\n",
       "      <td>0</td>\n",
       "      <td>0</td>\n",
       "      <td>0</td>\n",
       "      <td>0</td>\n",
       "      <td>0</td>\n",
       "      <td>0</td>\n",
       "      <td>0</td>\n",
       "      <td>0</td>\n",
       "      <td>0</td>\n",
       "      <td>0</td>\n",
       "    </tr>\n",
       "    <tr>\n",
       "      <th>1</th>\n",
       "      <td>1</td>\n",
       "      <td>0</td>\n",
       "      <td>0</td>\n",
       "      <td>0</td>\n",
       "      <td>0</td>\n",
       "      <td>0</td>\n",
       "      <td>0</td>\n",
       "      <td>0</td>\n",
       "      <td>0</td>\n",
       "      <td>0</td>\n",
       "      <td>...</td>\n",
       "      <td>0</td>\n",
       "      <td>0</td>\n",
       "      <td>0</td>\n",
       "      <td>0</td>\n",
       "      <td>0</td>\n",
       "      <td>0</td>\n",
       "      <td>0</td>\n",
       "      <td>0</td>\n",
       "      <td>0</td>\n",
       "      <td>0</td>\n",
       "    </tr>\n",
       "    <tr>\n",
       "      <th>2</th>\n",
       "      <td>1</td>\n",
       "      <td>0</td>\n",
       "      <td>0</td>\n",
       "      <td>0</td>\n",
       "      <td>0</td>\n",
       "      <td>0</td>\n",
       "      <td>0</td>\n",
       "      <td>0</td>\n",
       "      <td>0</td>\n",
       "      <td>0</td>\n",
       "      <td>...</td>\n",
       "      <td>0</td>\n",
       "      <td>0</td>\n",
       "      <td>0</td>\n",
       "      <td>0</td>\n",
       "      <td>0</td>\n",
       "      <td>0</td>\n",
       "      <td>0</td>\n",
       "      <td>0</td>\n",
       "      <td>0</td>\n",
       "      <td>0</td>\n",
       "    </tr>\n",
       "    <tr>\n",
       "      <th>3</th>\n",
       "      <td>1</td>\n",
       "      <td>0</td>\n",
       "      <td>0</td>\n",
       "      <td>0</td>\n",
       "      <td>0</td>\n",
       "      <td>0</td>\n",
       "      <td>0</td>\n",
       "      <td>0</td>\n",
       "      <td>0</td>\n",
       "      <td>0</td>\n",
       "      <td>...</td>\n",
       "      <td>0</td>\n",
       "      <td>0</td>\n",
       "      <td>0</td>\n",
       "      <td>0</td>\n",
       "      <td>0</td>\n",
       "      <td>0</td>\n",
       "      <td>0</td>\n",
       "      <td>0</td>\n",
       "      <td>0</td>\n",
       "      <td>0</td>\n",
       "    </tr>\n",
       "    <tr>\n",
       "      <th>4</th>\n",
       "      <td>1</td>\n",
       "      <td>0</td>\n",
       "      <td>0</td>\n",
       "      <td>0</td>\n",
       "      <td>0</td>\n",
       "      <td>0</td>\n",
       "      <td>0</td>\n",
       "      <td>0</td>\n",
       "      <td>0</td>\n",
       "      <td>0</td>\n",
       "      <td>...</td>\n",
       "      <td>0</td>\n",
       "      <td>0</td>\n",
       "      <td>0</td>\n",
       "      <td>0</td>\n",
       "      <td>0</td>\n",
       "      <td>0</td>\n",
       "      <td>0</td>\n",
       "      <td>0</td>\n",
       "      <td>0</td>\n",
       "      <td>0</td>\n",
       "    </tr>\n",
       "  </tbody>\n",
       "</table>\n",
       "<p>5 rows × 1426 columns</p>\n",
       "</div>"
      ],
      "text/plain": [
       "   1001.0  1002.0  1005.0  1007.0  1013.0  1020.0  1027.0  1028.0  1030.0  \\\n",
       "0       1       0       0       0       0       0       0       0       0   \n",
       "1       1       0       0       0       0       0       0       0       0   \n",
       "2       1       0       0       0       0       0       0       0       0   \n",
       "3       1       0       0       0       0       0       0       0       0   \n",
       "4       1       0       0       0       0       0       0       0       0   \n",
       "\n",
       "   1033.0  ...  19803.0  19804.0  19805.0  19806.0  19807.0  19808.0  19809.0  \\\n",
       "0       0  ...        0        0        0        0        0        0        0   \n",
       "1       0  ...        0        0        0        0        0        0        0   \n",
       "2       0  ...        0        0        0        0        0        0        0   \n",
       "3       0  ...        0        0        0        0        0        0        0   \n",
       "4       0  ...        0        0        0        0        0        0        0   \n",
       "\n",
       "   19810.0  19977.0  other  \n",
       "0        0        0      0  \n",
       "1        0        0      0  \n",
       "2        0        0      0  \n",
       "3        0        0      0  \n",
       "4        0        0      0  \n",
       "\n",
       "[5 rows x 1426 columns]"
      ]
     },
     "execution_count": 343,
     "metadata": {},
     "output_type": "execute_result"
    }
   ],
   "source": [
    "dummies = pd.get_dummies(df10['zip_code'])\n",
    "dummies.head()"
   ]
  },
  {
   "cell_type": "code",
   "execution_count": 345,
   "id": "5bdfb821",
   "metadata": {},
   "outputs": [
    {
     "data": {
      "text/html": [
       "<div>\n",
       "<style scoped>\n",
       "    .dataframe tbody tr th:only-of-type {\n",
       "        vertical-align: middle;\n",
       "    }\n",
       "\n",
       "    .dataframe tbody tr th {\n",
       "        vertical-align: top;\n",
       "    }\n",
       "\n",
       "    .dataframe thead th {\n",
       "        text-align: right;\n",
       "    }\n",
       "</style>\n",
       "<table border=\"1\" class=\"dataframe\">\n",
       "  <thead>\n",
       "    <tr style=\"text-align: right;\">\n",
       "      <th></th>\n",
       "      <th>price</th>\n",
       "      <th>bed</th>\n",
       "      <th>bath</th>\n",
       "      <th>zip_code</th>\n",
       "      <th>house_size</th>\n",
       "    </tr>\n",
       "  </thead>\n",
       "  <tbody>\n",
       "    <tr>\n",
       "      <th>0</th>\n",
       "      <td>525000.0</td>\n",
       "      <td>3.0</td>\n",
       "      <td>3.0</td>\n",
       "      <td>1001.0</td>\n",
       "      <td>2314.0</td>\n",
       "    </tr>\n",
       "    <tr>\n",
       "      <th>1</th>\n",
       "      <td>289900.0</td>\n",
       "      <td>3.0</td>\n",
       "      <td>2.0</td>\n",
       "      <td>1001.0</td>\n",
       "      <td>1276.0</td>\n",
       "    </tr>\n",
       "    <tr>\n",
       "      <th>2</th>\n",
       "      <td>275000.0</td>\n",
       "      <td>4.0</td>\n",
       "      <td>2.0</td>\n",
       "      <td>1001.0</td>\n",
       "      <td>1732.0</td>\n",
       "    </tr>\n",
       "    <tr>\n",
       "      <th>3</th>\n",
       "      <td>335000.0</td>\n",
       "      <td>6.0</td>\n",
       "      <td>2.0</td>\n",
       "      <td>1001.0</td>\n",
       "      <td>1800.0</td>\n",
       "    </tr>\n",
       "    <tr>\n",
       "      <th>4</th>\n",
       "      <td>239900.0</td>\n",
       "      <td>3.0</td>\n",
       "      <td>1.0</td>\n",
       "      <td>1001.0</td>\n",
       "      <td>1196.0</td>\n",
       "    </tr>\n",
       "  </tbody>\n",
       "</table>\n",
       "</div>"
      ],
      "text/plain": [
       "      price  bed  bath zip_code  house_size\n",
       "0  525000.0  3.0   3.0   1001.0      2314.0\n",
       "1  289900.0  3.0   2.0   1001.0      1276.0\n",
       "2  275000.0  4.0   2.0   1001.0      1732.0\n",
       "3  335000.0  6.0   2.0   1001.0      1800.0\n",
       "4  239900.0  3.0   1.0   1001.0      1196.0"
      ]
     },
     "execution_count": 345,
     "metadata": {},
     "output_type": "execute_result"
    }
   ],
   "source": [
    "df10.head()"
   ]
  },
  {
   "cell_type": "code",
   "execution_count": 346,
   "id": "190477d2",
   "metadata": {},
   "outputs": [
    {
     "data": {
      "text/html": [
       "<div>\n",
       "<style scoped>\n",
       "    .dataframe tbody tr th:only-of-type {\n",
       "        vertical-align: middle;\n",
       "    }\n",
       "\n",
       "    .dataframe tbody tr th {\n",
       "        vertical-align: top;\n",
       "    }\n",
       "\n",
       "    .dataframe thead th {\n",
       "        text-align: right;\n",
       "    }\n",
       "</style>\n",
       "<table border=\"1\" class=\"dataframe\">\n",
       "  <thead>\n",
       "    <tr style=\"text-align: right;\">\n",
       "      <th></th>\n",
       "      <th>price</th>\n",
       "      <th>bed</th>\n",
       "      <th>bath</th>\n",
       "      <th>zip_code</th>\n",
       "      <th>house_size</th>\n",
       "      <th>1001.0</th>\n",
       "      <th>1002.0</th>\n",
       "      <th>1005.0</th>\n",
       "      <th>1007.0</th>\n",
       "      <th>1013.0</th>\n",
       "      <th>...</th>\n",
       "      <th>19802.0</th>\n",
       "      <th>19803.0</th>\n",
       "      <th>19804.0</th>\n",
       "      <th>19805.0</th>\n",
       "      <th>19806.0</th>\n",
       "      <th>19807.0</th>\n",
       "      <th>19808.0</th>\n",
       "      <th>19809.0</th>\n",
       "      <th>19810.0</th>\n",
       "      <th>19977.0</th>\n",
       "    </tr>\n",
       "  </thead>\n",
       "  <tbody>\n",
       "    <tr>\n",
       "      <th>0</th>\n",
       "      <td>525000.0</td>\n",
       "      <td>3.0</td>\n",
       "      <td>3.0</td>\n",
       "      <td>1001.0</td>\n",
       "      <td>2314.0</td>\n",
       "      <td>1</td>\n",
       "      <td>0</td>\n",
       "      <td>0</td>\n",
       "      <td>0</td>\n",
       "      <td>0</td>\n",
       "      <td>...</td>\n",
       "      <td>0</td>\n",
       "      <td>0</td>\n",
       "      <td>0</td>\n",
       "      <td>0</td>\n",
       "      <td>0</td>\n",
       "      <td>0</td>\n",
       "      <td>0</td>\n",
       "      <td>0</td>\n",
       "      <td>0</td>\n",
       "      <td>0</td>\n",
       "    </tr>\n",
       "    <tr>\n",
       "      <th>1</th>\n",
       "      <td>289900.0</td>\n",
       "      <td>3.0</td>\n",
       "      <td>2.0</td>\n",
       "      <td>1001.0</td>\n",
       "      <td>1276.0</td>\n",
       "      <td>1</td>\n",
       "      <td>0</td>\n",
       "      <td>0</td>\n",
       "      <td>0</td>\n",
       "      <td>0</td>\n",
       "      <td>...</td>\n",
       "      <td>0</td>\n",
       "      <td>0</td>\n",
       "      <td>0</td>\n",
       "      <td>0</td>\n",
       "      <td>0</td>\n",
       "      <td>0</td>\n",
       "      <td>0</td>\n",
       "      <td>0</td>\n",
       "      <td>0</td>\n",
       "      <td>0</td>\n",
       "    </tr>\n",
       "    <tr>\n",
       "      <th>2</th>\n",
       "      <td>275000.0</td>\n",
       "      <td>4.0</td>\n",
       "      <td>2.0</td>\n",
       "      <td>1001.0</td>\n",
       "      <td>1732.0</td>\n",
       "      <td>1</td>\n",
       "      <td>0</td>\n",
       "      <td>0</td>\n",
       "      <td>0</td>\n",
       "      <td>0</td>\n",
       "      <td>...</td>\n",
       "      <td>0</td>\n",
       "      <td>0</td>\n",
       "      <td>0</td>\n",
       "      <td>0</td>\n",
       "      <td>0</td>\n",
       "      <td>0</td>\n",
       "      <td>0</td>\n",
       "      <td>0</td>\n",
       "      <td>0</td>\n",
       "      <td>0</td>\n",
       "    </tr>\n",
       "    <tr>\n",
       "      <th>3</th>\n",
       "      <td>335000.0</td>\n",
       "      <td>6.0</td>\n",
       "      <td>2.0</td>\n",
       "      <td>1001.0</td>\n",
       "      <td>1800.0</td>\n",
       "      <td>1</td>\n",
       "      <td>0</td>\n",
       "      <td>0</td>\n",
       "      <td>0</td>\n",
       "      <td>0</td>\n",
       "      <td>...</td>\n",
       "      <td>0</td>\n",
       "      <td>0</td>\n",
       "      <td>0</td>\n",
       "      <td>0</td>\n",
       "      <td>0</td>\n",
       "      <td>0</td>\n",
       "      <td>0</td>\n",
       "      <td>0</td>\n",
       "      <td>0</td>\n",
       "      <td>0</td>\n",
       "    </tr>\n",
       "    <tr>\n",
       "      <th>4</th>\n",
       "      <td>239900.0</td>\n",
       "      <td>3.0</td>\n",
       "      <td>1.0</td>\n",
       "      <td>1001.0</td>\n",
       "      <td>1196.0</td>\n",
       "      <td>1</td>\n",
       "      <td>0</td>\n",
       "      <td>0</td>\n",
       "      <td>0</td>\n",
       "      <td>0</td>\n",
       "      <td>...</td>\n",
       "      <td>0</td>\n",
       "      <td>0</td>\n",
       "      <td>0</td>\n",
       "      <td>0</td>\n",
       "      <td>0</td>\n",
       "      <td>0</td>\n",
       "      <td>0</td>\n",
       "      <td>0</td>\n",
       "      <td>0</td>\n",
       "      <td>0</td>\n",
       "    </tr>\n",
       "  </tbody>\n",
       "</table>\n",
       "<p>5 rows × 1430 columns</p>\n",
       "</div>"
      ],
      "text/plain": [
       "      price  bed  bath zip_code  house_size  1001.0  1002.0  1005.0  1007.0  \\\n",
       "0  525000.0  3.0   3.0   1001.0      2314.0       1       0       0       0   \n",
       "1  289900.0  3.0   2.0   1001.0      1276.0       1       0       0       0   \n",
       "2  275000.0  4.0   2.0   1001.0      1732.0       1       0       0       0   \n",
       "3  335000.0  6.0   2.0   1001.0      1800.0       1       0       0       0   \n",
       "4  239900.0  3.0   1.0   1001.0      1196.0       1       0       0       0   \n",
       "\n",
       "   1013.0  ...  19802.0  19803.0  19804.0  19805.0  19806.0  19807.0  19808.0  \\\n",
       "0       0  ...        0        0        0        0        0        0        0   \n",
       "1       0  ...        0        0        0        0        0        0        0   \n",
       "2       0  ...        0        0        0        0        0        0        0   \n",
       "3       0  ...        0        0        0        0        0        0        0   \n",
       "4       0  ...        0        0        0        0        0        0        0   \n",
       "\n",
       "   19809.0  19810.0  19977.0  \n",
       "0        0        0        0  \n",
       "1        0        0        0  \n",
       "2        0        0        0  \n",
       "3        0        0        0  \n",
       "4        0        0        0  \n",
       "\n",
       "[5 rows x 1430 columns]"
      ]
     },
     "execution_count": 346,
     "metadata": {},
     "output_type": "execute_result"
    }
   ],
   "source": [
    "df11 = pd.concat([df10,dummies.drop('other',axis='columns')],axis='columns')\n",
    "df11.head()"
   ]
  },
  {
   "cell_type": "code",
   "execution_count": 347,
   "id": "cd4e8134",
   "metadata": {},
   "outputs": [
    {
     "data": {
      "text/html": [
       "<div>\n",
       "<style scoped>\n",
       "    .dataframe tbody tr th:only-of-type {\n",
       "        vertical-align: middle;\n",
       "    }\n",
       "\n",
       "    .dataframe tbody tr th {\n",
       "        vertical-align: top;\n",
       "    }\n",
       "\n",
       "    .dataframe thead th {\n",
       "        text-align: right;\n",
       "    }\n",
       "</style>\n",
       "<table border=\"1\" class=\"dataframe\">\n",
       "  <thead>\n",
       "    <tr style=\"text-align: right;\">\n",
       "      <th></th>\n",
       "      <th>price</th>\n",
       "      <th>bed</th>\n",
       "      <th>bath</th>\n",
       "      <th>house_size</th>\n",
       "      <th>1001.0</th>\n",
       "      <th>1002.0</th>\n",
       "      <th>1005.0</th>\n",
       "      <th>1007.0</th>\n",
       "      <th>1013.0</th>\n",
       "      <th>1020.0</th>\n",
       "      <th>...</th>\n",
       "      <th>19802.0</th>\n",
       "      <th>19803.0</th>\n",
       "      <th>19804.0</th>\n",
       "      <th>19805.0</th>\n",
       "      <th>19806.0</th>\n",
       "      <th>19807.0</th>\n",
       "      <th>19808.0</th>\n",
       "      <th>19809.0</th>\n",
       "      <th>19810.0</th>\n",
       "      <th>19977.0</th>\n",
       "    </tr>\n",
       "  </thead>\n",
       "  <tbody>\n",
       "    <tr>\n",
       "      <th>0</th>\n",
       "      <td>525000.0</td>\n",
       "      <td>3.0</td>\n",
       "      <td>3.0</td>\n",
       "      <td>2314.0</td>\n",
       "      <td>1</td>\n",
       "      <td>0</td>\n",
       "      <td>0</td>\n",
       "      <td>0</td>\n",
       "      <td>0</td>\n",
       "      <td>0</td>\n",
       "      <td>...</td>\n",
       "      <td>0</td>\n",
       "      <td>0</td>\n",
       "      <td>0</td>\n",
       "      <td>0</td>\n",
       "      <td>0</td>\n",
       "      <td>0</td>\n",
       "      <td>0</td>\n",
       "      <td>0</td>\n",
       "      <td>0</td>\n",
       "      <td>0</td>\n",
       "    </tr>\n",
       "    <tr>\n",
       "      <th>1</th>\n",
       "      <td>289900.0</td>\n",
       "      <td>3.0</td>\n",
       "      <td>2.0</td>\n",
       "      <td>1276.0</td>\n",
       "      <td>1</td>\n",
       "      <td>0</td>\n",
       "      <td>0</td>\n",
       "      <td>0</td>\n",
       "      <td>0</td>\n",
       "      <td>0</td>\n",
       "      <td>...</td>\n",
       "      <td>0</td>\n",
       "      <td>0</td>\n",
       "      <td>0</td>\n",
       "      <td>0</td>\n",
       "      <td>0</td>\n",
       "      <td>0</td>\n",
       "      <td>0</td>\n",
       "      <td>0</td>\n",
       "      <td>0</td>\n",
       "      <td>0</td>\n",
       "    </tr>\n",
       "    <tr>\n",
       "      <th>2</th>\n",
       "      <td>275000.0</td>\n",
       "      <td>4.0</td>\n",
       "      <td>2.0</td>\n",
       "      <td>1732.0</td>\n",
       "      <td>1</td>\n",
       "      <td>0</td>\n",
       "      <td>0</td>\n",
       "      <td>0</td>\n",
       "      <td>0</td>\n",
       "      <td>0</td>\n",
       "      <td>...</td>\n",
       "      <td>0</td>\n",
       "      <td>0</td>\n",
       "      <td>0</td>\n",
       "      <td>0</td>\n",
       "      <td>0</td>\n",
       "      <td>0</td>\n",
       "      <td>0</td>\n",
       "      <td>0</td>\n",
       "      <td>0</td>\n",
       "      <td>0</td>\n",
       "    </tr>\n",
       "    <tr>\n",
       "      <th>3</th>\n",
       "      <td>335000.0</td>\n",
       "      <td>6.0</td>\n",
       "      <td>2.0</td>\n",
       "      <td>1800.0</td>\n",
       "      <td>1</td>\n",
       "      <td>0</td>\n",
       "      <td>0</td>\n",
       "      <td>0</td>\n",
       "      <td>0</td>\n",
       "      <td>0</td>\n",
       "      <td>...</td>\n",
       "      <td>0</td>\n",
       "      <td>0</td>\n",
       "      <td>0</td>\n",
       "      <td>0</td>\n",
       "      <td>0</td>\n",
       "      <td>0</td>\n",
       "      <td>0</td>\n",
       "      <td>0</td>\n",
       "      <td>0</td>\n",
       "      <td>0</td>\n",
       "    </tr>\n",
       "    <tr>\n",
       "      <th>4</th>\n",
       "      <td>239900.0</td>\n",
       "      <td>3.0</td>\n",
       "      <td>1.0</td>\n",
       "      <td>1196.0</td>\n",
       "      <td>1</td>\n",
       "      <td>0</td>\n",
       "      <td>0</td>\n",
       "      <td>0</td>\n",
       "      <td>0</td>\n",
       "      <td>0</td>\n",
       "      <td>...</td>\n",
       "      <td>0</td>\n",
       "      <td>0</td>\n",
       "      <td>0</td>\n",
       "      <td>0</td>\n",
       "      <td>0</td>\n",
       "      <td>0</td>\n",
       "      <td>0</td>\n",
       "      <td>0</td>\n",
       "      <td>0</td>\n",
       "      <td>0</td>\n",
       "    </tr>\n",
       "  </tbody>\n",
       "</table>\n",
       "<p>5 rows × 1429 columns</p>\n",
       "</div>"
      ],
      "text/plain": [
       "      price  bed  bath  house_size  1001.0  1002.0  1005.0  1007.0  1013.0  \\\n",
       "0  525000.0  3.0   3.0      2314.0       1       0       0       0       0   \n",
       "1  289900.0  3.0   2.0      1276.0       1       0       0       0       0   \n",
       "2  275000.0  4.0   2.0      1732.0       1       0       0       0       0   \n",
       "3  335000.0  6.0   2.0      1800.0       1       0       0       0       0   \n",
       "4  239900.0  3.0   1.0      1196.0       1       0       0       0       0   \n",
       "\n",
       "   1020.0  ...  19802.0  19803.0  19804.0  19805.0  19806.0  19807.0  19808.0  \\\n",
       "0       0  ...        0        0        0        0        0        0        0   \n",
       "1       0  ...        0        0        0        0        0        0        0   \n",
       "2       0  ...        0        0        0        0        0        0        0   \n",
       "3       0  ...        0        0        0        0        0        0        0   \n",
       "4       0  ...        0        0        0        0        0        0        0   \n",
       "\n",
       "   19809.0  19810.0  19977.0  \n",
       "0        0        0        0  \n",
       "1        0        0        0  \n",
       "2        0        0        0  \n",
       "3        0        0        0  \n",
       "4        0        0        0  \n",
       "\n",
       "[5 rows x 1429 columns]"
      ]
     },
     "execution_count": 347,
     "metadata": {},
     "output_type": "execute_result"
    }
   ],
   "source": [
    "df12 = df11.drop('zip_code', axis='columns')\n",
    "df12.head()"
   ]
  },
  {
   "cell_type": "code",
   "execution_count": 348,
   "id": "1e42c1c3",
   "metadata": {},
   "outputs": [
    {
     "data": {
      "text/html": [
       "<div>\n",
       "<style scoped>\n",
       "    .dataframe tbody tr th:only-of-type {\n",
       "        vertical-align: middle;\n",
       "    }\n",
       "\n",
       "    .dataframe tbody tr th {\n",
       "        vertical-align: top;\n",
       "    }\n",
       "\n",
       "    .dataframe thead th {\n",
       "        text-align: right;\n",
       "    }\n",
       "</style>\n",
       "<table border=\"1\" class=\"dataframe\">\n",
       "  <thead>\n",
       "    <tr style=\"text-align: right;\">\n",
       "      <th></th>\n",
       "      <th>bed</th>\n",
       "      <th>bath</th>\n",
       "      <th>house_size</th>\n",
       "      <th>1001.0</th>\n",
       "      <th>1002.0</th>\n",
       "      <th>1005.0</th>\n",
       "      <th>1007.0</th>\n",
       "      <th>1013.0</th>\n",
       "      <th>1020.0</th>\n",
       "      <th>1027.0</th>\n",
       "      <th>...</th>\n",
       "      <th>19802.0</th>\n",
       "      <th>19803.0</th>\n",
       "      <th>19804.0</th>\n",
       "      <th>19805.0</th>\n",
       "      <th>19806.0</th>\n",
       "      <th>19807.0</th>\n",
       "      <th>19808.0</th>\n",
       "      <th>19809.0</th>\n",
       "      <th>19810.0</th>\n",
       "      <th>19977.0</th>\n",
       "    </tr>\n",
       "  </thead>\n",
       "  <tbody>\n",
       "    <tr>\n",
       "      <th>0</th>\n",
       "      <td>3.0</td>\n",
       "      <td>3.0</td>\n",
       "      <td>2314.0</td>\n",
       "      <td>1</td>\n",
       "      <td>0</td>\n",
       "      <td>0</td>\n",
       "      <td>0</td>\n",
       "      <td>0</td>\n",
       "      <td>0</td>\n",
       "      <td>0</td>\n",
       "      <td>...</td>\n",
       "      <td>0</td>\n",
       "      <td>0</td>\n",
       "      <td>0</td>\n",
       "      <td>0</td>\n",
       "      <td>0</td>\n",
       "      <td>0</td>\n",
       "      <td>0</td>\n",
       "      <td>0</td>\n",
       "      <td>0</td>\n",
       "      <td>0</td>\n",
       "    </tr>\n",
       "    <tr>\n",
       "      <th>1</th>\n",
       "      <td>3.0</td>\n",
       "      <td>2.0</td>\n",
       "      <td>1276.0</td>\n",
       "      <td>1</td>\n",
       "      <td>0</td>\n",
       "      <td>0</td>\n",
       "      <td>0</td>\n",
       "      <td>0</td>\n",
       "      <td>0</td>\n",
       "      <td>0</td>\n",
       "      <td>...</td>\n",
       "      <td>0</td>\n",
       "      <td>0</td>\n",
       "      <td>0</td>\n",
       "      <td>0</td>\n",
       "      <td>0</td>\n",
       "      <td>0</td>\n",
       "      <td>0</td>\n",
       "      <td>0</td>\n",
       "      <td>0</td>\n",
       "      <td>0</td>\n",
       "    </tr>\n",
       "    <tr>\n",
       "      <th>2</th>\n",
       "      <td>4.0</td>\n",
       "      <td>2.0</td>\n",
       "      <td>1732.0</td>\n",
       "      <td>1</td>\n",
       "      <td>0</td>\n",
       "      <td>0</td>\n",
       "      <td>0</td>\n",
       "      <td>0</td>\n",
       "      <td>0</td>\n",
       "      <td>0</td>\n",
       "      <td>...</td>\n",
       "      <td>0</td>\n",
       "      <td>0</td>\n",
       "      <td>0</td>\n",
       "      <td>0</td>\n",
       "      <td>0</td>\n",
       "      <td>0</td>\n",
       "      <td>0</td>\n",
       "      <td>0</td>\n",
       "      <td>0</td>\n",
       "      <td>0</td>\n",
       "    </tr>\n",
       "    <tr>\n",
       "      <th>3</th>\n",
       "      <td>6.0</td>\n",
       "      <td>2.0</td>\n",
       "      <td>1800.0</td>\n",
       "      <td>1</td>\n",
       "      <td>0</td>\n",
       "      <td>0</td>\n",
       "      <td>0</td>\n",
       "      <td>0</td>\n",
       "      <td>0</td>\n",
       "      <td>0</td>\n",
       "      <td>...</td>\n",
       "      <td>0</td>\n",
       "      <td>0</td>\n",
       "      <td>0</td>\n",
       "      <td>0</td>\n",
       "      <td>0</td>\n",
       "      <td>0</td>\n",
       "      <td>0</td>\n",
       "      <td>0</td>\n",
       "      <td>0</td>\n",
       "      <td>0</td>\n",
       "    </tr>\n",
       "    <tr>\n",
       "      <th>4</th>\n",
       "      <td>3.0</td>\n",
       "      <td>1.0</td>\n",
       "      <td>1196.0</td>\n",
       "      <td>1</td>\n",
       "      <td>0</td>\n",
       "      <td>0</td>\n",
       "      <td>0</td>\n",
       "      <td>0</td>\n",
       "      <td>0</td>\n",
       "      <td>0</td>\n",
       "      <td>...</td>\n",
       "      <td>0</td>\n",
       "      <td>0</td>\n",
       "      <td>0</td>\n",
       "      <td>0</td>\n",
       "      <td>0</td>\n",
       "      <td>0</td>\n",
       "      <td>0</td>\n",
       "      <td>0</td>\n",
       "      <td>0</td>\n",
       "      <td>0</td>\n",
       "    </tr>\n",
       "  </tbody>\n",
       "</table>\n",
       "<p>5 rows × 1428 columns</p>\n",
       "</div>"
      ],
      "text/plain": [
       "   bed  bath  house_size  1001.0  1002.0  1005.0  1007.0  1013.0  1020.0  \\\n",
       "0  3.0   3.0      2314.0       1       0       0       0       0       0   \n",
       "1  3.0   2.0      1276.0       1       0       0       0       0       0   \n",
       "2  4.0   2.0      1732.0       1       0       0       0       0       0   \n",
       "3  6.0   2.0      1800.0       1       0       0       0       0       0   \n",
       "4  3.0   1.0      1196.0       1       0       0       0       0       0   \n",
       "\n",
       "   1027.0  ...  19802.0  19803.0  19804.0  19805.0  19806.0  19807.0  19808.0  \\\n",
       "0       0  ...        0        0        0        0        0        0        0   \n",
       "1       0  ...        0        0        0        0        0        0        0   \n",
       "2       0  ...        0        0        0        0        0        0        0   \n",
       "3       0  ...        0        0        0        0        0        0        0   \n",
       "4       0  ...        0        0        0        0        0        0        0   \n",
       "\n",
       "   19809.0  19810.0  19977.0  \n",
       "0        0        0        0  \n",
       "1        0        0        0  \n",
       "2        0        0        0  \n",
       "3        0        0        0  \n",
       "4        0        0        0  \n",
       "\n",
       "[5 rows x 1428 columns]"
      ]
     },
     "execution_count": 348,
     "metadata": {},
     "output_type": "execute_result"
    }
   ],
   "source": [
    "# model training\n",
    "X = df12.drop('price', axis='columns')\n",
    "X.head()"
   ]
  },
  {
   "cell_type": "code",
   "execution_count": 349,
   "id": "daa0a947",
   "metadata": {},
   "outputs": [
    {
     "data": {
      "text/plain": [
       "(23279, 1428)"
      ]
     },
     "execution_count": 349,
     "metadata": {},
     "output_type": "execute_result"
    }
   ],
   "source": [
    "X.shape"
   ]
  },
  {
   "cell_type": "code",
   "execution_count": 334,
   "id": "bff57e89",
   "metadata": {},
   "outputs": [
    {
     "data": {
      "text/plain": [
       "0    525000.0\n",
       "1    289900.0\n",
       "2    275000.0\n",
       "3    335000.0\n",
       "4    239900.0\n",
       "Name: price, dtype: float64"
      ]
     },
     "execution_count": 334,
     "metadata": {},
     "output_type": "execute_result"
    }
   ],
   "source": [
    "y = df12['price']\n",
    "y.head()"
   ]
  },
  {
   "cell_type": "code",
   "execution_count": 350,
   "id": "38ecd76e",
   "metadata": {},
   "outputs": [
    {
     "data": {
      "text/plain": [
       "(23279,)"
      ]
     },
     "execution_count": 350,
     "metadata": {},
     "output_type": "execute_result"
    }
   ],
   "source": [
    "y.shape"
   ]
  },
  {
   "cell_type": "code",
   "execution_count": 351,
   "id": "a0ecc215",
   "metadata": {},
   "outputs": [],
   "source": [
    "from sklearn.model_selection import train_test_split\n",
    "# 20% of my data will be used for testing my model and the rest will be used to build my model\n",
    "X_train, X_test, y_train, y_test = train_test_split(X,y,test_size=0.2,random_state=10) "
   ]
  },
  {
   "cell_type": "code",
   "execution_count": 352,
   "id": "1275e84b",
   "metadata": {},
   "outputs": [
    {
     "data": {
      "text/plain": [
       "0.7297320349337666"
      ]
     },
     "execution_count": 352,
     "metadata": {},
     "output_type": "execute_result"
    }
   ],
   "source": [
    "from sklearn.linear_model import LinearRegression\n",
    "lr_clf = LinearRegression()\n",
    "lr_clf.fit(X_train,y_train) # creates the model for price prediction\n",
    "lr_clf.score(X_test,y_test) # test the model "
   ]
  },
  {
   "cell_type": "code",
   "execution_count": 353,
   "id": "019bbc46",
   "metadata": {},
   "outputs": [
    {
     "data": {
      "text/plain": [
       "array([-3.87086801e+14,  6.69506079e-01,  5.70608729e-01,  7.23870066e-01,\n",
       "        6.36335820e-01])"
      ]
     },
     "execution_count": 353,
     "metadata": {},
     "output_type": "execute_result"
    }
   ],
   "source": [
    "from sklearn.model_selection import ShuffleSplit\n",
    "from sklearn.model_selection import cross_val_score\n",
    "\n",
    "cv = ShuffleSplit(n_splits=5, test_size=0.2, random_state=0) # shuffle the test data\n",
    "\n",
    "cross_val_score(LinearRegression(), X, y, cv=cv)"
   ]
  },
  {
   "cell_type": "markdown",
   "id": "a6ef2a70",
   "metadata": {},
   "source": [
    "### Testing the model "
   ]
  },
  {
   "cell_type": "code",
   "execution_count": 355,
   "id": "b34ad4d9",
   "metadata": {},
   "outputs": [
    {
     "data": {
      "text/plain": [
       "Index([       'bed',       'bath', 'house_size',       1001.0,       1002.0,\n",
       "             1005.0,       1007.0,       1013.0,       1020.0,       1027.0,\n",
       "       ...\n",
       "            19802.0,      19803.0,      19804.0,      19805.0,      19806.0,\n",
       "            19807.0,      19808.0,      19809.0,      19810.0,      19977.0],\n",
       "      dtype='object', length=1428)"
      ]
     },
     "execution_count": 355,
     "metadata": {},
     "output_type": "execute_result"
    }
   ],
   "source": [
    "X.columns"
   ]
  },
  {
   "cell_type": "code",
   "execution_count": 356,
   "id": "dd2e82e0",
   "metadata": {},
   "outputs": [
    {
     "data": {
      "text/plain": [
       "6"
      ]
     },
     "execution_count": 356,
     "metadata": {},
     "output_type": "execute_result"
    }
   ],
   "source": [
    "loc_index = np.where(X.columns==1007.0)[0][0]\n",
    "loc_index"
   ]
  },
  {
   "cell_type": "code",
   "execution_count": 377,
   "id": "735cb2a8",
   "metadata": {},
   "outputs": [],
   "source": [
    "def predict_price(zip_code,size,bed,bath):    \n",
    "    loc_index = np.where(X.columns==zip_code)[0][0]\n",
    "\n",
    "    x = np.zeros(len(X.columns))\n",
    "    x[0] = bed\n",
    "    x[1] = bath\n",
    "    x[2] = size\n",
    "    if loc_index >= 0:\n",
    "        x[loc_index] = 1\n",
    "\n",
    "    return abs(lr_clf.predict([x])[0])"
   ]
  },
  {
   "cell_type": "markdown",
   "id": "fa3c629b",
   "metadata": {},
   "source": [
    "### Observations"
   ]
  },
  {
   "cell_type": "code",
   "execution_count": 378,
   "id": "c72bec8f",
   "metadata": {},
   "outputs": [
    {
     "data": {
      "text/plain": [
       "77811.76631152644"
      ]
     },
     "execution_count": 378,
     "metadata": {},
     "output_type": "execute_result"
    }
   ],
   "source": [
    "predict_price(1001.0,1000, 1, 1)"
   ]
  },
  {
   "cell_type": "code",
   "execution_count": 379,
   "id": "3afe7762",
   "metadata": {},
   "outputs": [
    {
     "data": {
      "text/plain": [
       "414106.3363966884"
      ]
     },
     "execution_count": 379,
     "metadata": {},
     "output_type": "execute_result"
    }
   ],
   "source": [
    "predict_price(1001.0,2000, 2, 2)"
   ]
  },
  {
   "cell_type": "code",
   "execution_count": 380,
   "id": "a35a1ae4",
   "metadata": {},
   "outputs": [
    {
     "data": {
      "text/plain": [
       "50600.32640548964"
      ]
     },
     "execution_count": 380,
     "metadata": {},
     "output_type": "execute_result"
    }
   ],
   "source": [
    "predict_price(1013.0,1000, 2, 2)"
   ]
  },
  {
   "cell_type": "code",
   "execution_count": 381,
   "id": "54066c52",
   "metadata": {},
   "outputs": [
    {
     "data": {
      "text/plain": [
       "102851.75876017782"
      ]
     },
     "execution_count": 381,
     "metadata": {},
     "output_type": "execute_result"
    }
   ],
   "source": [
    "predict_price(19802.0,1000, 2, 2)"
   ]
  },
  {
   "cell_type": "code",
   "execution_count": 383,
   "id": "45e35066",
   "metadata": {},
   "outputs": [
    {
     "data": {
      "text/plain": [
       "14955.703080016043"
      ]
     },
     "execution_count": 383,
     "metadata": {},
     "output_type": "execute_result"
    }
   ],
   "source": [
    "predict_price(19802.0,1000, 1, 1)"
   ]
  },
  {
   "cell_type": "markdown",
   "id": "b27a05a9",
   "metadata": {},
   "source": [
    "### Export Model"
   ]
  },
  {
   "cell_type": "code",
   "execution_count": 384,
   "id": "e096827a",
   "metadata": {},
   "outputs": [],
   "source": [
    "import pickle\n",
    "with open('house_prices_model.pickle','wb') as f:\n",
    "    pickle.dump(lr_clf,f)"
   ]
  },
  {
   "cell_type": "markdown",
   "id": "3a561afd",
   "metadata": {},
   "source": [
    "### Export Columns"
   ]
  },
  {
   "cell_type": "code",
   "execution_count": 386,
   "id": "3b218ffc",
   "metadata": {},
   "outputs": [],
   "source": [
    "import json\n",
    "columns = {\n",
    "    'data_columns' : [col for col in X.columns]\n",
    "}\n",
    "with open(\"columns.json\",\"w\") as f:\n",
    "    f.write(json.dumps(columns))"
   ]
  },
  {
   "cell_type": "code",
   "execution_count": null,
   "id": "211c74c5",
   "metadata": {},
   "outputs": [],
   "source": []
  }
 ],
 "metadata": {
  "kernelspec": {
   "display_name": "Python 3 (ipykernel)",
   "language": "python",
   "name": "python3"
  },
  "language_info": {
   "codemirror_mode": {
    "name": "ipython",
    "version": 3
   },
   "file_extension": ".py",
   "mimetype": "text/x-python",
   "name": "python",
   "nbconvert_exporter": "python",
   "pygments_lexer": "ipython3",
   "version": "3.9.7"
  }
 },
 "nbformat": 4,
 "nbformat_minor": 5
}
