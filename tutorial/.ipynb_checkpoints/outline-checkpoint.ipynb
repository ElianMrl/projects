{
 "cells": [
  {
   "cell_type": "markdown",
   "id": "b6cbfd40-898a-4a0b-b785-73e02f2ff8eb",
   "metadata": {},
   "source": [
    "# Machine Learning Project Checlist"
   ]
  },
  {
   "cell_type": "markdown",
   "id": "aa3c44e3-8907-41f1-9e04-5a63cf4ddb04",
   "metadata": {
    "tags": []
   },
   "source": [
    "## 1. Frame the Problem and Look at the Big Picture\n",
    "\n",
    "1. Define the objective in business terms.\n",
    "2. How will your solution be used?\n",
    "3. What are the current solutions/workarounds (if any)?\n",
    "4. How should you frame this problem (supervised/unsupervised, online/offline, etc.)?\n",
    "5. How should you performance be measured?\n",
    "6. Is the performance measure aligned with the business objective?\n",
    "7. What would be the minimum performance needed to reach the business objective?\n",
    "8. what are comparable problems? Can you reuse experience or tools?\n",
    "9. Is human expertise available?\n",
    "10. How would you solve the problem manually?\n",
    "11. List the assumptions you (or others) have made so far.\n",
    "12. Verify assumptions if possible."
   ]
  },
  {
   "cell_type": "markdown",
   "id": "c3edfad1-eff0-42e1-8490-db7ac45d7800",
   "metadata": {
    "tags": []
   },
   "source": [
    "## 2. Get the Data\n",
    "\n",
    "1. List the data you need and how much you need.\n",
    "2. Find a document where you can get that data.\n",
    "3. Check how much space it will take.\n",
    "4. Check legal obligations, and get authorization if necessary.\n",
    "5. Get access authorizations.\n",
    "6. Create a workspace (with enough storage space).\n",
    "7. Get the data\n",
    "8. Convert data to a format you can easily manipulate (without changing the data itself)\n",
    "9. Ensure sensitive information is deleted or protected (e.g., anonymized).\n",
    "10. Check the size and type of data (time series, sample, geographical, etc).\n",
    "11. Sample a test set, put it aside, and never look at it (no data snooping!)."
   ]
  },
  {
   "cell_type": "markdown",
   "id": "efa6227e-df05-40da-9db0-a6db8c0a7161",
   "metadata": {},
   "source": [
    "## 3. Explore the Data\n",
    "Note: try to get insights from a field expert for these steps.\n",
    "\n",
    "1. Create a copy of the data for exploration (sampling it down to a manageable size if necessary)\n",
    "2. Create a jupyter notebook to keep a record of your data exploration.\n",
    "3. Study each attribute and its characteristics:\n",
    "    - name\n",
    "    - Type (categorical, int/float, bounded/unbounded, text, structured, etc.)\n",
    "    - % of missing values \n",
    "    - Noisiness and type of noise (stochastic, outliers, rounding errors, etc.)\n",
    "    - Possible useful for the task?\n",
    "    - Type of distribution (Gaussian, uniform, logarithmic, etc).\n",
    "4. For supervised learning tasks, identify the target attribute(s)\n",
    "5. Visualize the data.\n",
    "6. Study the correlations between attributes.\n",
    "7. Study how you would solve the problem manually.\n",
    "8. Identify the promissing transformations you may want to apply. \n",
    "9. Identify extra data that would be useful (go back to \"Get the Data\")\n",
    "10. Document what you learned."
   ]
  },
  {
   "cell_type": "markdown",
   "id": "d030ca49-9d9a-436b-ae91-49eb058953ac",
   "metadata": {},
   "source": [
    "## 4. Prepare the Data\n",
    "Notes: \n",
    "- Work on copies of the data (keep the original dataset intact).\n",
    "- write functions for all data transformations you apply, for five reasons:\n",
    "    - So you can easilly prepare the data the next time you get a fesh dataset\n",
    "    - So you can apply these transformations in future projects \n",
    "    - To clean and prepare the test set\n",
    "    - To  clean and prepare new data isntances once your solution is live \n",
    "    - To make it easy to treat your preparation choices as hyperparameters \n",
    "    \n",
    "1. Data cleaning:\n",
    "    - Fix or remove outilers (optional)\n",
    "    - Fill in missing values (e.g., with zero, mean, median...) or drop their rows (or columns).\n",
    "2. Feature Seelction (optional)\n",
    "    - Drop the attributes that provide no usefull information for the task.\n",
    "3. Feature Engineering where appropriate:\n",
    "    - Discretize continous features. \n",
    "    - Decompose features (e.g., categorical, date/time, etc.).\n",
    "    - Add promissing transformations of features (e.g., log(x), sqrt(x), x^2, etc.).\n",
    "    - Aggregate features into promising new features \n",
    "4. Feature scaling: standardize or normalize features."
   ]
  },
  {
   "cell_type": "markdown",
   "id": "4cbaabf9-3057-48e3-b998-ba6c4eb39835",
   "metadata": {},
   "source": [
    "## 5. Short-List Promissing Models \n",
    "Notes: \n",
    "- if the data is huge, you may want to sample smaller training sets so you can train many different models in a reasonable time (be aware that this penalizes complex models such as large neural nets or Random Forests).\n",
    "- Once again, try to automate these stesps as much as possible.\n",
    "\n",
    "1. Train many quick and dirty models from different categories (e.g., linear, naive, Bayes, SVM, Random Forests, Neural Net, etc.) using standard parameters.\n",
    "2. Measure and compare their performance.\n",
    "    - For each model, use N-fold cross-validation and compute the mean and standard deviation of the peformance measure on the N folds.\n",
    "3. Analyze the most significant variables for each algorithm.\n",
    "4. Analyze the type of errors the models make.\n",
    "    - What data would a human have used to avoid these errors?\n",
    "5. Have a quick round of feature selection and engineering.\n",
    "6. Have one or two more quick iterations of the five previous steps.\n",
    "7. Short-list the top three to five to most promising models, preferrign models that make different types of erros."
   ]
  },
  {
   "cell_type": "markdown",
   "id": "c989d752-ea35-49fd-befa-bfb34515816b",
   "metadata": {},
   "source": [
    "## 6. Fine-Tune the System\n",
    "Notes: \n",
    "- You will want to use as much data as possible for this step, specially as you move toward the end of fine-tunning.\n",
    "- As always automate what you can.\n",
    "\n",
    "1. Fine-tune the hyperparameters using cross-validation.\n",
    "    - Treat your data transformation choices as hyperparameters, especially when you are not sure about them (e.g., should I replace missing values with zero or with the median value? Or just drop the rows?).\n",
    "    - Unless there are very few hyperparameter values to explore, prefer random search over grid search. If training is very long, you may prefer a Bayesian optimization approach (e.g., using Gaussian process priors).\n",
    "2. Try Ensemble methods. Combining your best models will often perform better than running them individually. \n",
    "3. Once you are confident about your final model, measure its performance on the test set to estimate the generalization error.\n",
    "\n",
    "**Note:** Don't tweak your model after measuring the generalization error: you would just start overfittign the test set. \n",
    "    "
   ]
  },
  {
   "cell_type": "markdown",
   "id": "dcb8d6ea-af10-4ac9-8152-97c2468fe9fa",
   "metadata": {},
   "source": [
    "## 7. present Your Solution\n",
    "\n",
    "1. Document what you have done.\n",
    "2. Cerate a nice presentaion.\n",
    "    - Make sure you highlight the big picture first.\n",
    "3. Explain why your solution achieves the business objective.\n",
    "4. Don't forget to present interesting points you noticed along the way.\n",
    "    - Describe what worked and what did not.\n",
    "    - List your assumptions and your system's limitations.\n",
    "5. Ensure your key findings are communicated through beautiful visualizations or easy-to-remenber statements (e.g., \"the median income is the number-one predictor of housing prices\")."
   ]
  },
  {
   "cell_type": "markdown",
   "id": "da7038b1-a0f1-480d-bc48-9bd01b275973",
   "metadata": {},
   "source": [
    "## 8. Launch!\n",
    "\n",
    "1. Get your solution ready for production (plug into production data inputs, write unit tests, etc.).\n",
    "2. Write monitoring code to check your systems' live performance at regular intervals and trigger alerts when it drops.\n",
    "    - Beware of slow degradation too: models tend to \"rot\" as data evovles.\n",
    "    - Measuring performance may require a human pipeline (e.g., via a crowdsourcing service).\n",
    "    - Also monitor your inputs' quality (e.g., malfunctioning sensor sending random values, or another teams' output becoming stale). This is particularly important for online learning systems.\n",
    "3. Retrain your models on a regular basis on fresh data (automate as much as possible)."
   ]
  },
  {
   "cell_type": "code",
   "execution_count": null,
   "id": "6dd8669e-7b93-40af-84c5-19640793c9fc",
   "metadata": {},
   "outputs": [],
   "source": []
  }
 ],
 "metadata": {
  "kernelspec": {
   "display_name": "Python 3 (ipykernel)",
   "language": "python",
   "name": "python3"
  },
  "language_info": {
   "codemirror_mode": {
    "name": "ipython",
    "version": 3
   },
   "file_extension": ".py",
   "mimetype": "text/x-python",
   "name": "python",
   "nbconvert_exporter": "python",
   "pygments_lexer": "ipython3",
   "version": "3.10.2"
  }
 },
 "nbformat": 4,
 "nbformat_minor": 5
}
